{
 "cells": [
  {
   "cell_type": "code",
   "execution_count": 15,
   "id": "6360e682",
   "metadata": {},
   "outputs": [
    {
     "name": "stdout",
     "output_type": "stream",
     "text": [
      "SPAM MAIL\n"
     ]
    }
   ],
   "source": [
    "#Libraries\n",
    "import numpy as np\n",
    "import pandas as pd\n",
    "from sklearn.model_selection import train_test_split\n",
    "from nltk.corpus import stopwords\n",
    "from nltk.stem.porter import PorterStemmer\n",
    "from sklearn.feature_extraction.text import TfidfVectorizer\n",
    "from sklearn.linear_model import LogisticRegression\n",
    "from sklearn.metrics import accuracy_score\n",
    "import pickle\n",
    "\n",
    "#Import data from csv file\n",
    "spam_mail_data = pd.read_csv('mail_data.csv')\n",
    "mail_data = spam_mail_data.where((pd.notnull(spam_mail_data)),'')\n",
    "\n",
    "mail_data.loc[mail_data['Category'] == 'spam','Category',] = 1\n",
    "mail_data.loc[mail_data['Category'] == 'ham','Category',] = 0\n",
    "\n",
    "#Storing Input set and output set\n",
    "X = mail_data['Message']\n",
    "y = mail_data['Category']\n",
    "\n",
    "X_train,X_test,y_train,y_test = train_test_split(X,y,test_size=0.2,random_state=3)\n",
    "\n",
    "feature_extraction = TfidfVectorizer(min_df=1, stop_words='english', token_pattern='str')\n",
    "\n",
    "X_train_features = feature_extraction.fit_transform(X_train)\n",
    "X_test_features = feature_extraction.transform(X_test)\n",
    "\n",
    "y_train = y_train.astype('int')\n",
    "y_test = y_test.astype('int')\n",
    "model = LogisticRegression()\n",
    "model.fit(X_train_features, y_train)\n",
    "\n",
    "prediction_train = model.predict(X_train_features)\n",
    "accuracy_train = accuracy_score(y_train, prediction_train)\n",
    "\n",
    "prediction_test = model.predict(X_test_features)\n",
    "accuracy_test = accuracy_score(y_test, prediction_test)\n",
    "\n",
    "input_mail = [\"1) Fight The Risk of Cancer! http://www.adclick.ws/p.cfm?o=315&s=pk0072) Slim Down - Guaranteed to lose 10-12 lbs in 30 days http://www.adclick.ws/p.cfm?o=249&s=pk0073) Get the Child Support You Deserve - Free Legal Advice http://www.adclick.ws/p.cfm?o=245&s=pk0024) Join the Web's Fastest Growing Singles Community http://www.adclick.ws/p.cfm?o=259&s=pk0075) Start Your Private Photo Album Online! http://www.adclick.ws/p.cfm?o=283&s=pk007Have a Wonderful Day, Offer Manager PrizeMamaIf you wish to leave this list please use the link below http://www.qves.com/trim/?ilug@linux.ie%7C17%7C114258 --  Irish Linux Users' Group: ilug@linux.ie http://www.linux.ie/mailman/listinfo/ilug for (un)subscription information. List maintainer: listmaster@linux.ie\"]\n",
    "input_mail_features= feature_extraction.transform(input_mail)\n",
    "prediction = model.predict(input_mail_features)\n",
    "\n",
    "if(prediction == 0):\n",
    "    print('It is a Ham')\n",
    "    \n",
    "else:\n",
    "    print('SPAM MAIL')\n",
    "\n",
    "pickle.dump(feature_extraction,open('feature_extr.pkl','wb'))\n",
    "filename = 'trained_model.pkl'\n",
    "pickle.dump(model, open(filename,'wb'))\n",
    "\n",
    "loaded_model = pickle.load(open(\"trained_model.pkl\",'rb'))\n",
    "\n",
    "input_mail = [\"1) Fight The Risk of Cancer! http://www.adclick.ws/p.cfm?o=315&s=pk0072) Slim Down - Guaranteed to lose 10-12 lbs in 30 days http://www.adclick.ws/p.cfm?o=249&s=pk0073) Get the Child Support You Deserve - Free Legal Advice http://www.adclick.ws/p.cfm?o=245&s=pk0024) Join the Web's Fastest Growing Singles Community http://www.adclick.ws/p.cfm?o=259&s=pk0075) Start Your Private Photo Album Online! http://www.adclick.ws/p.cfm?o=283&s=pk007Have a Wonderful Day, Offer Manager PrizeMamaIf you wish to leave this list please use the link below http://www.qves.com/trim/?ilug@linux.ie%7C17%7C114258 --  Irish Linux Users' Group: ilug@linux.ie http://www.linux.ie/mailman/listinfo/ilug for (un)subscription information. List maintainer: listmaster@linux.ie\"]\n",
    "input_mail_features= feature_extraction.transform(input_mail)\n",
    "prediction = loaded_model.predict(input_mail_features)\n",
    "\n",
    "if(prediction == 0):\n",
    "    print('It is a Ham')\n",
    "    \n",
    "else:\n",
    "    print('SPAM MAIL')\n",
    "\n",
    "\n"
   ]
  },
  {
   "cell_type": "code",
   "execution_count": null,
   "id": "6f4e07f2",
   "metadata": {},
   "outputs": [],
   "source": []
  },
  {
   "cell_type": "code",
   "execution_count": null,
   "id": "96a2fa22",
   "metadata": {},
   "outputs": [],
   "source": []
  }
 ],
 "metadata": {
  "kernelspec": {
   "display_name": "Python 3 (ipykernel)",
   "language": "python",
   "name": "python3"
  },
  "language_info": {
   "codemirror_mode": {
    "name": "ipython",
    "version": 3
   },
   "file_extension": ".py",
   "mimetype": "text/x-python",
   "name": "python",
   "nbconvert_exporter": "python",
   "pygments_lexer": "ipython3",
   "version": "3.10.9"
  }
 },
 "nbformat": 4,
 "nbformat_minor": 5
}
